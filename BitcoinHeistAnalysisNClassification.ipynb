{
 "cells": [
  {
   "cell_type": "code",
   "execution_count": 1,
   "metadata": {},
   "outputs": [
    {
     "name": "stdout",
     "output_type": "stream",
     "text": [
      "Requirement already satisfied: pandas in c:\\users\\acer\\anaconda3\\lib\\site-packages (1.4.4)\n",
      "Requirement already satisfied: pytz>=2020.1 in c:\\users\\acer\\anaconda3\\lib\\site-packages (from pandas) (2022.1)\n",
      "Requirement already satisfied: python-dateutil>=2.8.1 in c:\\users\\acer\\anaconda3\\lib\\site-packages (from pandas) (2.8.2)\n",
      "Requirement already satisfied: numpy>=1.18.5 in c:\\users\\acer\\anaconda3\\lib\\site-packages (from pandas) (1.21.5)\n",
      "Requirement already satisfied: six>=1.5 in c:\\users\\acer\\anaconda3\\lib\\site-packages (from python-dateutil>=2.8.1->pandas) (1.12.0)\n",
      "Requirement already satisfied: numpy in c:\\users\\acer\\anaconda3\\lib\\site-packages (1.21.5)\n",
      "Requirement already satisfied: seaborn in c:\\users\\acer\\anaconda3\\lib\\site-packages (0.11.2)\n",
      "Requirement already satisfied: scipy>=1.0 in c:\\users\\acer\\anaconda3\\lib\\site-packages (from seaborn) (1.9.1)\n",
      "Requirement already satisfied: matplotlib>=2.2 in c:\\users\\acer\\anaconda3\\lib\\site-packages (from seaborn) (3.5.2)\n",
      "Requirement already satisfied: numpy>=1.15 in c:\\users\\acer\\anaconda3\\lib\\site-packages (from seaborn) (1.21.5)\n",
      "Requirement already satisfied: pandas>=0.23 in c:\\users\\acer\\anaconda3\\lib\\site-packages (from seaborn) (1.4.4)\n",
      "Requirement already satisfied: fonttools>=4.22.0 in c:\\users\\acer\\anaconda3\\lib\\site-packages (from matplotlib>=2.2->seaborn) (4.25.0)\n",
      "Requirement already satisfied: python-dateutil>=2.7 in c:\\users\\acer\\anaconda3\\lib\\site-packages (from matplotlib>=2.2->seaborn) (2.8.2)\n",
      "Requirement already satisfied: pyparsing>=2.2.1 in c:\\users\\acer\\anaconda3\\lib\\site-packages (from matplotlib>=2.2->seaborn) (3.0.9)\n",
      "Requirement already satisfied: kiwisolver>=1.0.1 in c:\\users\\acer\\anaconda3\\lib\\site-packages (from matplotlib>=2.2->seaborn) (1.4.2)\n",
      "Requirement already satisfied: packaging>=20.0 in c:\\users\\acer\\anaconda3\\lib\\site-packages (from matplotlib>=2.2->seaborn) (21.3)\n",
      "Requirement already satisfied: pillow>=6.2.0 in c:\\users\\acer\\anaconda3\\lib\\site-packages (from matplotlib>=2.2->seaborn) (9.2.0)\n",
      "Requirement already satisfied: cycler>=0.10 in c:\\users\\acer\\anaconda3\\lib\\site-packages (from matplotlib>=2.2->seaborn) (0.11.0)\n",
      "Requirement already satisfied: pytz>=2020.1 in c:\\users\\acer\\anaconda3\\lib\\site-packages (from pandas>=0.23->seaborn) (2022.1)\n",
      "Requirement already satisfied: six>=1.5 in c:\\users\\acer\\anaconda3\\lib\\site-packages (from python-dateutil>=2.7->matplotlib>=2.2->seaborn) (1.12.0)\n",
      "Requirement already satisfied: matplotlib in c:\\users\\acer\\anaconda3\\lib\\site-packages (3.5.2)\n",
      "Requirement already satisfied: packaging>=20.0 in c:\\users\\acer\\anaconda3\\lib\\site-packages (from matplotlib) (21.3)\n",
      "Requirement already satisfied: cycler>=0.10 in c:\\users\\acer\\anaconda3\\lib\\site-packages (from matplotlib) (0.11.0)\n",
      "Requirement already satisfied: numpy>=1.17 in c:\\users\\acer\\anaconda3\\lib\\site-packages (from matplotlib) (1.21.5)\n",
      "Requirement already satisfied: kiwisolver>=1.0.1 in c:\\users\\acer\\anaconda3\\lib\\site-packages (from matplotlib) (1.4.2)\n",
      "Requirement already satisfied: pyparsing>=2.2.1 in c:\\users\\acer\\anaconda3\\lib\\site-packages (from matplotlib) (3.0.9)\n",
      "Requirement already satisfied: python-dateutil>=2.7 in c:\\users\\acer\\anaconda3\\lib\\site-packages (from matplotlib) (2.8.2)\n",
      "Requirement already satisfied: fonttools>=4.22.0 in c:\\users\\acer\\anaconda3\\lib\\site-packages (from matplotlib) (4.25.0)\n",
      "Requirement already satisfied: pillow>=6.2.0 in c:\\users\\acer\\anaconda3\\lib\\site-packages (from matplotlib) (9.2.0)\n",
      "Requirement already satisfied: six>=1.5 in c:\\users\\acer\\anaconda3\\lib\\site-packages (from python-dateutil>=2.7->matplotlib) (1.12.0)\n",
      "Requirement already satisfied: sklearn in c:\\users\\acer\\anaconda3\\lib\\site-packages (0.0.post5)\n"
     ]
    }
   ],
   "source": [
    "# Installing all the required libraries\n",
    "!pip install pandas\n",
    "!pip install numpy\n",
    "!pip install seaborn\n",
    "!pip install matplotlib\n",
    "!pip install sklearn"
   ]
  },
  {
   "cell_type": "code",
   "execution_count": 2,
   "metadata": {},
   "outputs": [],
   "source": [
    "# Importing all the required libraries and modules.\n",
    "import pandas as pd\n",
    "import numpy as np\n",
    "import seaborn as sns\n",
    "from sklearn.preprocessing import LabelEncoder\n",
    "from sklearn.model_selection import train_test_split, cross_val_predict\n",
    "from sklearn.naive_bayes import GaussianNB\n",
    "from sklearn import tree\n",
    "from sklearn.metrics import accuracy_score, precision_score, recall_score, f1_score, confusion_matrix, classification_report\n",
    "import matplotlib.pyplot as plt"
   ]
  },
  {
   "cell_type": "markdown",
   "metadata": {},
   "source": [
    "# Data Preparation"
   ]
  },
  {
   "cell_type": "code",
   "execution_count": 3,
   "metadata": {},
   "outputs": [],
   "source": [
    "# Loading the csv file by hosting online in my github account due to file size upoload limit in moodle.\n",
    "df = pd.read_csv('https://raw.githubusercontent.com/Sunilrai486/Datasets/main/BitcoinHeistData.csv')"
   ]
  },
  {
   "cell_type": "code",
   "execution_count": 4,
   "metadata": {},
   "outputs": [
    {
     "data": {
      "text/plain": [
       "(1048575, 10)"
      ]
     },
     "execution_count": 4,
     "metadata": {},
     "output_type": "execute_result"
    }
   ],
   "source": [
    "# Checking the shape of the dataframe\n",
    "df.shape"
   ]
  },
  {
   "cell_type": "code",
   "execution_count": 5,
   "metadata": {},
   "outputs": [
    {
     "data": {
      "text/html": [
       "<div>\n",
       "<style scoped>\n",
       "    .dataframe tbody tr th:only-of-type {\n",
       "        vertical-align: middle;\n",
       "    }\n",
       "\n",
       "    .dataframe tbody tr th {\n",
       "        vertical-align: top;\n",
       "    }\n",
       "\n",
       "    .dataframe thead th {\n",
       "        text-align: right;\n",
       "    }\n",
       "</style>\n",
       "<table border=\"1\" class=\"dataframe\">\n",
       "  <thead>\n",
       "    <tr style=\"text-align: right;\">\n",
       "      <th></th>\n",
       "      <th>address</th>\n",
       "      <th>year</th>\n",
       "      <th>day</th>\n",
       "      <th>length</th>\n",
       "      <th>weight</th>\n",
       "      <th>count</th>\n",
       "      <th>looped</th>\n",
       "      <th>neighbors</th>\n",
       "      <th>income</th>\n",
       "      <th>label</th>\n",
       "    </tr>\n",
       "  </thead>\n",
       "  <tbody>\n",
       "    <tr>\n",
       "      <th>0</th>\n",
       "      <td>111K8kZAEnJg245r2cM6y9zgJGHZtJPy6</td>\n",
       "      <td>2011</td>\n",
       "      <td>11</td>\n",
       "      <td>18</td>\n",
       "      <td>0.008333</td>\n",
       "      <td>1</td>\n",
       "      <td>0</td>\n",
       "      <td>2</td>\n",
       "      <td>100050000.0</td>\n",
       "      <td>princetonCerber</td>\n",
       "    </tr>\n",
       "    <tr>\n",
       "      <th>1</th>\n",
       "      <td>1123pJv8jzeFQaCV4w644pzQJzVWay2zcA</td>\n",
       "      <td>2011</td>\n",
       "      <td>132</td>\n",
       "      <td>44</td>\n",
       "      <td>0.000244</td>\n",
       "      <td>1</td>\n",
       "      <td>0</td>\n",
       "      <td>1</td>\n",
       "      <td>100000000.0</td>\n",
       "      <td>princetonLocky</td>\n",
       "    </tr>\n",
       "    <tr>\n",
       "      <th>2</th>\n",
       "      <td>112536im7hy6wtKbpH1qYDWtTyMRAcA2p7</td>\n",
       "      <td>2011</td>\n",
       "      <td>246</td>\n",
       "      <td>0</td>\n",
       "      <td>1.000000</td>\n",
       "      <td>1</td>\n",
       "      <td>0</td>\n",
       "      <td>2</td>\n",
       "      <td>200000000.0</td>\n",
       "      <td>princetonCerber</td>\n",
       "    </tr>\n",
       "    <tr>\n",
       "      <th>3</th>\n",
       "      <td>1126eDRw2wqSkWosjTCre8cjjQW8sSeWH7</td>\n",
       "      <td>2011</td>\n",
       "      <td>322</td>\n",
       "      <td>72</td>\n",
       "      <td>0.003906</td>\n",
       "      <td>1</td>\n",
       "      <td>0</td>\n",
       "      <td>2</td>\n",
       "      <td>71200000.0</td>\n",
       "      <td>princetonCerber</td>\n",
       "    </tr>\n",
       "    <tr>\n",
       "      <th>4</th>\n",
       "      <td>1129TSjKtx65E35GiUo4AYVeyo48twbrGX</td>\n",
       "      <td>2011</td>\n",
       "      <td>238</td>\n",
       "      <td>144</td>\n",
       "      <td>0.072848</td>\n",
       "      <td>456</td>\n",
       "      <td>0</td>\n",
       "      <td>1</td>\n",
       "      <td>200000000.0</td>\n",
       "      <td>princetonLocky</td>\n",
       "    </tr>\n",
       "  </tbody>\n",
       "</table>\n",
       "</div>"
      ],
      "text/plain": [
       "                              address  year  day  length    weight  count  \\\n",
       "0   111K8kZAEnJg245r2cM6y9zgJGHZtJPy6  2011   11      18  0.008333      1   \n",
       "1  1123pJv8jzeFQaCV4w644pzQJzVWay2zcA  2011  132      44  0.000244      1   \n",
       "2  112536im7hy6wtKbpH1qYDWtTyMRAcA2p7  2011  246       0  1.000000      1   \n",
       "3  1126eDRw2wqSkWosjTCre8cjjQW8sSeWH7  2011  322      72  0.003906      1   \n",
       "4  1129TSjKtx65E35GiUo4AYVeyo48twbrGX  2011  238     144  0.072848    456   \n",
       "\n",
       "   looped  neighbors       income            label  \n",
       "0       0          2  100050000.0  princetonCerber  \n",
       "1       0          1  100000000.0   princetonLocky  \n",
       "2       0          2  200000000.0  princetonCerber  \n",
       "3       0          2   71200000.0  princetonCerber  \n",
       "4       0          1  200000000.0   princetonLocky  "
      ]
     },
     "execution_count": 5,
     "metadata": {},
     "output_type": "execute_result"
    }
   ],
   "source": [
    "# Checking the first five rows of the bitcoin heist data.\n",
    "df.head()"
   ]
  },
  {
   "cell_type": "code",
   "execution_count": 6,
   "metadata": {},
   "outputs": [
    {
     "data": {
      "text/html": [
       "<div>\n",
       "<style scoped>\n",
       "    .dataframe tbody tr th:only-of-type {\n",
       "        vertical-align: middle;\n",
       "    }\n",
       "\n",
       "    .dataframe tbody tr th {\n",
       "        vertical-align: top;\n",
       "    }\n",
       "\n",
       "    .dataframe thead th {\n",
       "        text-align: right;\n",
       "    }\n",
       "</style>\n",
       "<table border=\"1\" class=\"dataframe\">\n",
       "  <thead>\n",
       "    <tr style=\"text-align: right;\">\n",
       "      <th></th>\n",
       "      <th>address</th>\n",
       "      <th>year</th>\n",
       "      <th>day</th>\n",
       "      <th>length</th>\n",
       "      <th>weight</th>\n",
       "      <th>count</th>\n",
       "      <th>looped</th>\n",
       "      <th>neighbors</th>\n",
       "      <th>income</th>\n",
       "      <th>label</th>\n",
       "    </tr>\n",
       "  </thead>\n",
       "  <tbody>\n",
       "    <tr>\n",
       "      <th>1048570</th>\n",
       "      <td>1LfcACYNGFQcmUKubH6G4M4BfqBTxxkgzs</td>\n",
       "      <td>2017</td>\n",
       "      <td>287</td>\n",
       "      <td>144</td>\n",
       "      <td>7.010000e-05</td>\n",
       "      <td>496</td>\n",
       "      <td>0</td>\n",
       "      <td>2</td>\n",
       "      <td>5.500000e+07</td>\n",
       "      <td>white</td>\n",
       "    </tr>\n",
       "    <tr>\n",
       "      <th>1048571</th>\n",
       "      <td>1KjB3Lg7SUPwrjbcLp6eSMgikJCqiA5sBM</td>\n",
       "      <td>2017</td>\n",
       "      <td>287</td>\n",
       "      <td>100</td>\n",
       "      <td>2.840000e-14</td>\n",
       "      <td>1</td>\n",
       "      <td>0</td>\n",
       "      <td>2</td>\n",
       "      <td>1.804997e+10</td>\n",
       "      <td>white</td>\n",
       "    </tr>\n",
       "    <tr>\n",
       "      <th>1048572</th>\n",
       "      <td>1BLFGmeZE8tFNJBAwsk6pRkgSHrM2RoA8E</td>\n",
       "      <td>2018</td>\n",
       "      <td>287</td>\n",
       "      <td>4</td>\n",
       "      <td>2.500000e-01</td>\n",
       "      <td>1</td>\n",
       "      <td>0</td>\n",
       "      <td>2</td>\n",
       "      <td>1.563393e+08</td>\n",
       "      <td>white</td>\n",
       "    </tr>\n",
       "    <tr>\n",
       "      <th>1048573</th>\n",
       "      <td>1JZ1SGn2DNtxUqUXYC8ENLheiEvC5QxBCP</td>\n",
       "      <td>2018</td>\n",
       "      <td>287</td>\n",
       "      <td>2</td>\n",
       "      <td>2.000000e-01</td>\n",
       "      <td>1</td>\n",
       "      <td>0</td>\n",
       "      <td>2</td>\n",
       "      <td>5.553651e+09</td>\n",
       "      <td>white</td>\n",
       "    </tr>\n",
       "    <tr>\n",
       "      <th>1048574</th>\n",
       "      <td>1B2nKRCcpk8BuZo3M8Ju3FU4Kv8vg6pRub</td>\n",
       "      <td>2018</td>\n",
       "      <td>287</td>\n",
       "      <td>26</td>\n",
       "      <td>5.000000e-01</td>\n",
       "      <td>1</td>\n",
       "      <td>0</td>\n",
       "      <td>1</td>\n",
       "      <td>5.855557e+07</td>\n",
       "      <td>white</td>\n",
       "    </tr>\n",
       "  </tbody>\n",
       "</table>\n",
       "</div>"
      ],
      "text/plain": [
       "                                    address  year  day  length        weight  \\\n",
       "1048570  1LfcACYNGFQcmUKubH6G4M4BfqBTxxkgzs  2017  287     144  7.010000e-05   \n",
       "1048571  1KjB3Lg7SUPwrjbcLp6eSMgikJCqiA5sBM  2017  287     100  2.840000e-14   \n",
       "1048572  1BLFGmeZE8tFNJBAwsk6pRkgSHrM2RoA8E  2018  287       4  2.500000e-01   \n",
       "1048573  1JZ1SGn2DNtxUqUXYC8ENLheiEvC5QxBCP  2018  287       2  2.000000e-01   \n",
       "1048574  1B2nKRCcpk8BuZo3M8Ju3FU4Kv8vg6pRub  2018  287      26  5.000000e-01   \n",
       "\n",
       "         count  looped  neighbors        income  label  \n",
       "1048570    496       0          2  5.500000e+07  white  \n",
       "1048571      1       0          2  1.804997e+10  white  \n",
       "1048572      1       0          2  1.563393e+08  white  \n",
       "1048573      1       0          2  5.553651e+09  white  \n",
       "1048574      1       0          1  5.855557e+07  white  "
      ]
     },
     "execution_count": 6,
     "metadata": {},
     "output_type": "execute_result"
    }
   ],
   "source": [
    "# Checking the last five rows of the bitcoin heist data.\n",
    "df.tail()"
   ]
  },
  {
   "cell_type": "code",
   "execution_count": 7,
   "metadata": {},
   "outputs": [
    {
     "data": {
      "text/html": [
       "<div>\n",
       "<style scoped>\n",
       "    .dataframe tbody tr th:only-of-type {\n",
       "        vertical-align: middle;\n",
       "    }\n",
       "\n",
       "    .dataframe tbody tr th {\n",
       "        vertical-align: top;\n",
       "    }\n",
       "\n",
       "    .dataframe thead th {\n",
       "        text-align: right;\n",
       "    }\n",
       "</style>\n",
       "<table border=\"1\" class=\"dataframe\">\n",
       "  <thead>\n",
       "    <tr style=\"text-align: right;\">\n",
       "      <th></th>\n",
       "      <th>year</th>\n",
       "      <th>day</th>\n",
       "      <th>length</th>\n",
       "      <th>weight</th>\n",
       "      <th>count</th>\n",
       "      <th>looped</th>\n",
       "      <th>neighbors</th>\n",
       "      <th>income</th>\n",
       "    </tr>\n",
       "  </thead>\n",
       "  <tbody>\n",
       "    <tr>\n",
       "      <th>count</th>\n",
       "      <td>1.048575e+06</td>\n",
       "      <td>1.048575e+06</td>\n",
       "      <td>1.048575e+06</td>\n",
       "      <td>1.048575e+06</td>\n",
       "      <td>1.048575e+06</td>\n",
       "      <td>1.048575e+06</td>\n",
       "      <td>1.048575e+06</td>\n",
       "      <td>1.048575e+06</td>\n",
       "    </tr>\n",
       "    <tr>\n",
       "      <th>mean</th>\n",
       "      <td>2.012048e+03</td>\n",
       "      <td>1.735295e+02</td>\n",
       "      <td>2.631742e+01</td>\n",
       "      <td>5.406222e-01</td>\n",
       "      <td>1.582070e+02</td>\n",
       "      <td>3.608665e+01</td>\n",
       "      <td>2.324220e+00</td>\n",
       "      <td>9.026359e+09</td>\n",
       "    </tr>\n",
       "    <tr>\n",
       "      <th>std</th>\n",
       "      <td>1.005057e+00</td>\n",
       "      <td>1.001409e+02</td>\n",
       "      <td>4.272004e+01</td>\n",
       "      <td>2.990846e+00</td>\n",
       "      <td>6.024127e+02</td>\n",
       "      <td>2.884734e+02</td>\n",
       "      <td>1.862359e+01</td>\n",
       "      <td>2.555870e+11</td>\n",
       "    </tr>\n",
       "    <tr>\n",
       "      <th>min</th>\n",
       "      <td>2.011000e+03</td>\n",
       "      <td>1.000000e+00</td>\n",
       "      <td>0.000000e+00</td>\n",
       "      <td>3.610000e-94</td>\n",
       "      <td>1.000000e+00</td>\n",
       "      <td>0.000000e+00</td>\n",
       "      <td>1.000000e+00</td>\n",
       "      <td>3.000000e+07</td>\n",
       "    </tr>\n",
       "    <tr>\n",
       "      <th>25%</th>\n",
       "      <td>2.011000e+03</td>\n",
       "      <td>8.800000e+01</td>\n",
       "      <td>0.000000e+00</td>\n",
       "      <td>1.897321e-02</td>\n",
       "      <td>1.000000e+00</td>\n",
       "      <td>0.000000e+00</td>\n",
       "      <td>1.000000e+00</td>\n",
       "      <td>1.086922e+08</td>\n",
       "    </tr>\n",
       "    <tr>\n",
       "      <th>50%</th>\n",
       "      <td>2.012000e+03</td>\n",
       "      <td>1.710000e+02</td>\n",
       "      <td>6.000000e+00</td>\n",
       "      <td>2.500000e-01</td>\n",
       "      <td>1.000000e+00</td>\n",
       "      <td>0.000000e+00</td>\n",
       "      <td>2.000000e+00</td>\n",
       "      <td>5.000000e+08</td>\n",
       "    </tr>\n",
       "    <tr>\n",
       "      <th>75%</th>\n",
       "      <td>2.013000e+03</td>\n",
       "      <td>2.560000e+02</td>\n",
       "      <td>2.800000e+01</td>\n",
       "      <td>5.606003e-01</td>\n",
       "      <td>8.000000e+00</td>\n",
       "      <td>0.000000e+00</td>\n",
       "      <td>2.000000e+00</td>\n",
       "      <td>2.519020e+09</td>\n",
       "    </tr>\n",
       "    <tr>\n",
       "      <th>max</th>\n",
       "      <td>2.018000e+03</td>\n",
       "      <td>3.650000e+02</td>\n",
       "      <td>1.440000e+02</td>\n",
       "      <td>4.982885e+02</td>\n",
       "      <td>1.346200e+04</td>\n",
       "      <td>1.169300e+04</td>\n",
       "      <td>3.776000e+03</td>\n",
       "      <td>4.996440e+13</td>\n",
       "    </tr>\n",
       "  </tbody>\n",
       "</table>\n",
       "</div>"
      ],
      "text/plain": [
       "               year           day        length        weight         count  \\\n",
       "count  1.048575e+06  1.048575e+06  1.048575e+06  1.048575e+06  1.048575e+06   \n",
       "mean   2.012048e+03  1.735295e+02  2.631742e+01  5.406222e-01  1.582070e+02   \n",
       "std    1.005057e+00  1.001409e+02  4.272004e+01  2.990846e+00  6.024127e+02   \n",
       "min    2.011000e+03  1.000000e+00  0.000000e+00  3.610000e-94  1.000000e+00   \n",
       "25%    2.011000e+03  8.800000e+01  0.000000e+00  1.897321e-02  1.000000e+00   \n",
       "50%    2.012000e+03  1.710000e+02  6.000000e+00  2.500000e-01  1.000000e+00   \n",
       "75%    2.013000e+03  2.560000e+02  2.800000e+01  5.606003e-01  8.000000e+00   \n",
       "max    2.018000e+03  3.650000e+02  1.440000e+02  4.982885e+02  1.346200e+04   \n",
       "\n",
       "             looped     neighbors        income  \n",
       "count  1.048575e+06  1.048575e+06  1.048575e+06  \n",
       "mean   3.608665e+01  2.324220e+00  9.026359e+09  \n",
       "std    2.884734e+02  1.862359e+01  2.555870e+11  \n",
       "min    0.000000e+00  1.000000e+00  3.000000e+07  \n",
       "25%    0.000000e+00  1.000000e+00  1.086922e+08  \n",
       "50%    0.000000e+00  2.000000e+00  5.000000e+08  \n",
       "75%    0.000000e+00  2.000000e+00  2.519020e+09  \n",
       "max    1.169300e+04  3.776000e+03  4.996440e+13  "
      ]
     },
     "execution_count": 7,
     "metadata": {},
     "output_type": "execute_result"
    }
   ],
   "source": [
    "# Checking the descriptive statistics of the biction heist data.\n",
    "df.describe()"
   ]
  },
  {
   "cell_type": "code",
   "execution_count": 8,
   "metadata": {},
   "outputs": [
    {
     "name": "stdout",
     "output_type": "stream",
     "text": [
      "<class 'pandas.core.frame.DataFrame'>\n",
      "RangeIndex: 1048575 entries, 0 to 1048574\n",
      "Data columns (total 10 columns):\n",
      " #   Column     Non-Null Count    Dtype  \n",
      "---  ------     --------------    -----  \n",
      " 0   address    1048575 non-null  object \n",
      " 1   year       1048575 non-null  int64  \n",
      " 2   day        1048575 non-null  int64  \n",
      " 3   length     1048575 non-null  int64  \n",
      " 4   weight     1048575 non-null  float64\n",
      " 5   count      1048575 non-null  int64  \n",
      " 6   looped     1048575 non-null  int64  \n",
      " 7   neighbors  1048575 non-null  int64  \n",
      " 8   income     1048575 non-null  float64\n",
      " 9   label      1048575 non-null  object \n",
      "dtypes: float64(2), int64(6), object(2)\n",
      "memory usage: 80.0+ MB\n"
     ]
    }
   ],
   "source": [
    "# Checking the detailed information of the bitcoin heist dataset.\n",
    "df.info()"
   ]
  },
  {
   "cell_type": "code",
   "execution_count": 9,
   "metadata": {},
   "outputs": [
    {
     "data": {
      "text/plain": [
       "address      853358\n",
       "year              8\n",
       "day             365\n",
       "length           73\n",
       "weight       150928\n",
       "count          5724\n",
       "looped         3778\n",
       "neighbors       692\n",
       "income       526339\n",
       "label            29\n",
       "dtype: int64"
      ]
     },
     "execution_count": 9,
     "metadata": {},
     "output_type": "execute_result"
    }
   ],
   "source": [
    "# Checking for the number of unique values in each column\n",
    "df.nunique()"
   ]
  },
  {
   "cell_type": "code",
   "execution_count": 10,
   "metadata": {},
   "outputs": [
    {
     "data": {
      "text/plain": [
       "0"
      ]
     },
     "execution_count": 10,
     "metadata": {},
     "output_type": "execute_result"
    }
   ],
   "source": [
    "# Checking for duplicated rows\n",
    "df.duplicated().sum()"
   ]
  },
  {
   "cell_type": "code",
   "execution_count": 11,
   "metadata": {},
   "outputs": [
    {
     "data": {
      "text/plain": [
       "white                          1007162\n",
       "paduaCryptoWall                  12390\n",
       "montrealCryptoLocker              9315\n",
       "princetonCerber                   9223\n",
       "princetonLocky                    6625\n",
       "montrealCryptXXX                  2419\n",
       "montrealNoobCrypt                  483\n",
       "montrealDMALockerv3                354\n",
       "montrealDMALocker                  251\n",
       "montrealSamSam                      62\n",
       "montrealCryptoTorLocker2015         55\n",
       "montrealGlobeImposter               55\n",
       "montrealGlobev3                     34\n",
       "montrealGlobe                       32\n",
       "montrealWannaCry                    28\n",
       "montrealRazy                        13\n",
       "montrealAPT                         11\n",
       "paduaKeRanger                       10\n",
       "montrealFlyper                       9\n",
       "montrealXTPLocker                    8\n",
       "montrealXLockerv5.0                  7\n",
       "montrealVenusLocker                  7\n",
       "montrealCryptConsole                 7\n",
       "montrealEDA2                         6\n",
       "montrealJigSaw                       4\n",
       "paduaJigsaw                          2\n",
       "montrealXLocker                      1\n",
       "montrealSam                          1\n",
       "montrealComradeCircle                1\n",
       "Name: label, dtype: int64"
      ]
     },
     "execution_count": 11,
     "metadata": {},
     "output_type": "execute_result"
    }
   ],
   "source": [
    "# Counting the value of labels based on it's type.\n",
    "df['label'].value_counts()"
   ]
  },
  {
   "cell_type": "code",
   "execution_count": 12,
   "metadata": {},
   "outputs": [],
   "source": [
    "# Defined a function to add new labeltarget based on the existing label column's values.\n",
    "def addnewlabel(oldlabel):\n",
    "    \"\"\"This function returns the new labeltarget as White or Ransomware for the bitcoin transactions.\n",
    "\n",
    "    Args:\n",
    "        oldlabel (string): The previous label for the transaction.\n",
    "\n",
    "    Returns:\n",
    "        string: Returns white or ransomware based on the oldlabel.\n",
    "    \"\"\"\n",
    "    if oldlabel.lower() == 'white':\n",
    "        return 'White'\n",
    "    else:\n",
    "        return 'Ransomware'"
   ]
  },
  {
   "cell_type": "code",
   "execution_count": 13,
   "metadata": {},
   "outputs": [
    {
     "data": {
      "text/html": [
       "<div>\n",
       "<style scoped>\n",
       "    .dataframe tbody tr th:only-of-type {\n",
       "        vertical-align: middle;\n",
       "    }\n",
       "\n",
       "    .dataframe tbody tr th {\n",
       "        vertical-align: top;\n",
       "    }\n",
       "\n",
       "    .dataframe thead th {\n",
       "        text-align: right;\n",
       "    }\n",
       "</style>\n",
       "<table border=\"1\" class=\"dataframe\">\n",
       "  <thead>\n",
       "    <tr style=\"text-align: right;\">\n",
       "      <th></th>\n",
       "      <th>address</th>\n",
       "      <th>year</th>\n",
       "      <th>day</th>\n",
       "      <th>length</th>\n",
       "      <th>weight</th>\n",
       "      <th>count</th>\n",
       "      <th>looped</th>\n",
       "      <th>neighbors</th>\n",
       "      <th>income</th>\n",
       "      <th>label</th>\n",
       "      <th>labeltarget</th>\n",
       "    </tr>\n",
       "  </thead>\n",
       "  <tbody>\n",
       "    <tr>\n",
       "      <th>0</th>\n",
       "      <td>111K8kZAEnJg245r2cM6y9zgJGHZtJPy6</td>\n",
       "      <td>2011</td>\n",
       "      <td>11</td>\n",
       "      <td>18</td>\n",
       "      <td>0.008333</td>\n",
       "      <td>1</td>\n",
       "      <td>0</td>\n",
       "      <td>2</td>\n",
       "      <td>100050000.0</td>\n",
       "      <td>princetonCerber</td>\n",
       "      <td>Ransomware</td>\n",
       "    </tr>\n",
       "    <tr>\n",
       "      <th>1</th>\n",
       "      <td>1123pJv8jzeFQaCV4w644pzQJzVWay2zcA</td>\n",
       "      <td>2011</td>\n",
       "      <td>132</td>\n",
       "      <td>44</td>\n",
       "      <td>0.000244</td>\n",
       "      <td>1</td>\n",
       "      <td>0</td>\n",
       "      <td>1</td>\n",
       "      <td>100000000.0</td>\n",
       "      <td>princetonLocky</td>\n",
       "      <td>Ransomware</td>\n",
       "    </tr>\n",
       "    <tr>\n",
       "      <th>2</th>\n",
       "      <td>112536im7hy6wtKbpH1qYDWtTyMRAcA2p7</td>\n",
       "      <td>2011</td>\n",
       "      <td>246</td>\n",
       "      <td>0</td>\n",
       "      <td>1.000000</td>\n",
       "      <td>1</td>\n",
       "      <td>0</td>\n",
       "      <td>2</td>\n",
       "      <td>200000000.0</td>\n",
       "      <td>princetonCerber</td>\n",
       "      <td>Ransomware</td>\n",
       "    </tr>\n",
       "    <tr>\n",
       "      <th>3</th>\n",
       "      <td>1126eDRw2wqSkWosjTCre8cjjQW8sSeWH7</td>\n",
       "      <td>2011</td>\n",
       "      <td>322</td>\n",
       "      <td>72</td>\n",
       "      <td>0.003906</td>\n",
       "      <td>1</td>\n",
       "      <td>0</td>\n",
       "      <td>2</td>\n",
       "      <td>71200000.0</td>\n",
       "      <td>princetonCerber</td>\n",
       "      <td>Ransomware</td>\n",
       "    </tr>\n",
       "    <tr>\n",
       "      <th>4</th>\n",
       "      <td>1129TSjKtx65E35GiUo4AYVeyo48twbrGX</td>\n",
       "      <td>2011</td>\n",
       "      <td>238</td>\n",
       "      <td>144</td>\n",
       "      <td>0.072848</td>\n",
       "      <td>456</td>\n",
       "      <td>0</td>\n",
       "      <td>1</td>\n",
       "      <td>200000000.0</td>\n",
       "      <td>princetonLocky</td>\n",
       "      <td>Ransomware</td>\n",
       "    </tr>\n",
       "  </tbody>\n",
       "</table>\n",
       "</div>"
      ],
      "text/plain": [
       "                              address  year  day  length    weight  count  \\\n",
       "0   111K8kZAEnJg245r2cM6y9zgJGHZtJPy6  2011   11      18  0.008333      1   \n",
       "1  1123pJv8jzeFQaCV4w644pzQJzVWay2zcA  2011  132      44  0.000244      1   \n",
       "2  112536im7hy6wtKbpH1qYDWtTyMRAcA2p7  2011  246       0  1.000000      1   \n",
       "3  1126eDRw2wqSkWosjTCre8cjjQW8sSeWH7  2011  322      72  0.003906      1   \n",
       "4  1129TSjKtx65E35GiUo4AYVeyo48twbrGX  2011  238     144  0.072848    456   \n",
       "\n",
       "   looped  neighbors       income            label labeltarget  \n",
       "0       0          2  100050000.0  princetonCerber  Ransomware  \n",
       "1       0          1  100000000.0   princetonLocky  Ransomware  \n",
       "2       0          2  200000000.0  princetonCerber  Ransomware  \n",
       "3       0          2   71200000.0  princetonCerber  Ransomware  \n",
       "4       0          1  200000000.0   princetonLocky  Ransomware  "
      ]
     },
     "execution_count": 13,
     "metadata": {},
     "output_type": "execute_result"
    }
   ],
   "source": [
    "# Appllying the defined function to add labeltarget based on the existing label column's values.\n",
    "df['labeltarget'] = df['label'].apply(addnewlabel)\n",
    "\n",
    "# Checking the first five rows of the bitcoin heist data after adding new column labletarget.\n",
    "df.head()"
   ]
  },
  {
   "cell_type": "code",
   "execution_count": 14,
   "metadata": {},
   "outputs": [
    {
     "data": {
      "text/html": [
       "<div>\n",
       "<style scoped>\n",
       "    .dataframe tbody tr th:only-of-type {\n",
       "        vertical-align: middle;\n",
       "    }\n",
       "\n",
       "    .dataframe tbody tr th {\n",
       "        vertical-align: top;\n",
       "    }\n",
       "\n",
       "    .dataframe thead th {\n",
       "        text-align: right;\n",
       "    }\n",
       "</style>\n",
       "<table border=\"1\" class=\"dataframe\">\n",
       "  <thead>\n",
       "    <tr style=\"text-align: right;\">\n",
       "      <th></th>\n",
       "      <th>address</th>\n",
       "      <th>year</th>\n",
       "      <th>day</th>\n",
       "      <th>length</th>\n",
       "      <th>weight</th>\n",
       "      <th>count</th>\n",
       "      <th>looped</th>\n",
       "      <th>neighbors</th>\n",
       "      <th>income</th>\n",
       "      <th>label</th>\n",
       "      <th>labeltarget</th>\n",
       "    </tr>\n",
       "  </thead>\n",
       "  <tbody>\n",
       "    <tr>\n",
       "      <th>1048570</th>\n",
       "      <td>1LfcACYNGFQcmUKubH6G4M4BfqBTxxkgzs</td>\n",
       "      <td>2017</td>\n",
       "      <td>287</td>\n",
       "      <td>144</td>\n",
       "      <td>7.010000e-05</td>\n",
       "      <td>496</td>\n",
       "      <td>0</td>\n",
       "      <td>2</td>\n",
       "      <td>5.500000e+07</td>\n",
       "      <td>white</td>\n",
       "      <td>White</td>\n",
       "    </tr>\n",
       "    <tr>\n",
       "      <th>1048571</th>\n",
       "      <td>1KjB3Lg7SUPwrjbcLp6eSMgikJCqiA5sBM</td>\n",
       "      <td>2017</td>\n",
       "      <td>287</td>\n",
       "      <td>100</td>\n",
       "      <td>2.840000e-14</td>\n",
       "      <td>1</td>\n",
       "      <td>0</td>\n",
       "      <td>2</td>\n",
       "      <td>1.804997e+10</td>\n",
       "      <td>white</td>\n",
       "      <td>White</td>\n",
       "    </tr>\n",
       "    <tr>\n",
       "      <th>1048572</th>\n",
       "      <td>1BLFGmeZE8tFNJBAwsk6pRkgSHrM2RoA8E</td>\n",
       "      <td>2018</td>\n",
       "      <td>287</td>\n",
       "      <td>4</td>\n",
       "      <td>2.500000e-01</td>\n",
       "      <td>1</td>\n",
       "      <td>0</td>\n",
       "      <td>2</td>\n",
       "      <td>1.563393e+08</td>\n",
       "      <td>white</td>\n",
       "      <td>White</td>\n",
       "    </tr>\n",
       "    <tr>\n",
       "      <th>1048573</th>\n",
       "      <td>1JZ1SGn2DNtxUqUXYC8ENLheiEvC5QxBCP</td>\n",
       "      <td>2018</td>\n",
       "      <td>287</td>\n",
       "      <td>2</td>\n",
       "      <td>2.000000e-01</td>\n",
       "      <td>1</td>\n",
       "      <td>0</td>\n",
       "      <td>2</td>\n",
       "      <td>5.553651e+09</td>\n",
       "      <td>white</td>\n",
       "      <td>White</td>\n",
       "    </tr>\n",
       "    <tr>\n",
       "      <th>1048574</th>\n",
       "      <td>1B2nKRCcpk8BuZo3M8Ju3FU4Kv8vg6pRub</td>\n",
       "      <td>2018</td>\n",
       "      <td>287</td>\n",
       "      <td>26</td>\n",
       "      <td>5.000000e-01</td>\n",
       "      <td>1</td>\n",
       "      <td>0</td>\n",
       "      <td>1</td>\n",
       "      <td>5.855557e+07</td>\n",
       "      <td>white</td>\n",
       "      <td>White</td>\n",
       "    </tr>\n",
       "  </tbody>\n",
       "</table>\n",
       "</div>"
      ],
      "text/plain": [
       "                                    address  year  day  length        weight  \\\n",
       "1048570  1LfcACYNGFQcmUKubH6G4M4BfqBTxxkgzs  2017  287     144  7.010000e-05   \n",
       "1048571  1KjB3Lg7SUPwrjbcLp6eSMgikJCqiA5sBM  2017  287     100  2.840000e-14   \n",
       "1048572  1BLFGmeZE8tFNJBAwsk6pRkgSHrM2RoA8E  2018  287       4  2.500000e-01   \n",
       "1048573  1JZ1SGn2DNtxUqUXYC8ENLheiEvC5QxBCP  2018  287       2  2.000000e-01   \n",
       "1048574  1B2nKRCcpk8BuZo3M8Ju3FU4Kv8vg6pRub  2018  287      26  5.000000e-01   \n",
       "\n",
       "         count  looped  neighbors        income  label labeltarget  \n",
       "1048570    496       0          2  5.500000e+07  white       White  \n",
       "1048571      1       0          2  1.804997e+10  white       White  \n",
       "1048572      1       0          2  1.563393e+08  white       White  \n",
       "1048573      1       0          2  5.553651e+09  white       White  \n",
       "1048574      1       0          1  5.855557e+07  white       White  "
      ]
     },
     "execution_count": 14,
     "metadata": {},
     "output_type": "execute_result"
    }
   ],
   "source": [
    "# Checking the last five rows of the bitcoin heist data after adding new column labletarget.\n",
    "df.tail()"
   ]
  },
  {
   "cell_type": "code",
   "execution_count": 15,
   "metadata": {},
   "outputs": [
    {
     "data": {
      "text/plain": [
       "Text(0.5, 1.0, 'Number of Ransomware/White Transactions')"
      ]
     },
     "execution_count": 15,
     "metadata": {},
     "output_type": "execute_result"
    },
    {
     "data": {
      "image/png": "[encoded data removed]",
      "text/plain": [
       "<Figure size 640x480 with 1 Axes>"
      ]
     },
     "metadata": {},
     "output_type": "display_data"
    }
   ],
   "source": [
    "groupedlabel = df['labeltarget'].value_counts()\n",
    "plt.bar(groupedlabel.index, groupedlabel.values)\n",
    "plt.xlabel(\"Type of Transactions\")\n",
    "plt.ylabel(\"Total Transactions\")\n",
    "plt.title(\"Number of Ransomware/White Transactions\")"
   ]
  },
  {
   "cell_type": "code",
   "execution_count": 16,
   "metadata": {},
   "outputs": [
    {
     "data": {
      "text/html": [
       "<div>\n",
       "<style scoped>\n",
       "    .dataframe tbody tr th:only-of-type {\n",
       "        vertical-align: middle;\n",
       "    }\n",
       "\n",
       "    .dataframe tbody tr th {\n",
       "        vertical-align: top;\n",
       "    }\n",
       "\n",
       "    .dataframe thead th {\n",
       "        text-align: right;\n",
       "    }\n",
       "</style>\n",
       "<table border=\"1\" class=\"dataframe\">\n",
       "  <thead>\n",
       "    <tr style=\"text-align: right;\">\n",
       "      <th></th>\n",
       "      <th>address</th>\n",
       "      <th>year</th>\n",
       "      <th>day</th>\n",
       "      <th>length</th>\n",
       "      <th>weight</th>\n",
       "      <th>count</th>\n",
       "      <th>looped</th>\n",
       "      <th>neighbors</th>\n",
       "      <th>income</th>\n",
       "      <th>label</th>\n",
       "      <th>labeltarget</th>\n",
       "    </tr>\n",
       "  </thead>\n",
       "  <tbody>\n",
       "    <tr>\n",
       "      <th>0</th>\n",
       "      <td>111K8kZAEnJg245r2cM6y9zgJGHZtJPy6</td>\n",
       "      <td>2011</td>\n",
       "      <td>11</td>\n",
       "      <td>18</td>\n",
       "      <td>0.008333</td>\n",
       "      <td>1</td>\n",
       "      <td>0</td>\n",
       "      <td>2</td>\n",
       "      <td>100050000.0</td>\n",
       "      <td>princetonCerber</td>\n",
       "      <td>0</td>\n",
       "    </tr>\n",
       "    <tr>\n",
       "      <th>1</th>\n",
       "      <td>1123pJv8jzeFQaCV4w644pzQJzVWay2zcA</td>\n",
       "      <td>2011</td>\n",
       "      <td>132</td>\n",
       "      <td>44</td>\n",
       "      <td>0.000244</td>\n",
       "      <td>1</td>\n",
       "      <td>0</td>\n",
       "      <td>1</td>\n",
       "      <td>100000000.0</td>\n",
       "      <td>princetonLocky</td>\n",
       "      <td>0</td>\n",
       "    </tr>\n",
       "    <tr>\n",
       "      <th>2</th>\n",
       "      <td>112536im7hy6wtKbpH1qYDWtTyMRAcA2p7</td>\n",
       "      <td>2011</td>\n",
       "      <td>246</td>\n",
       "      <td>0</td>\n",
       "      <td>1.000000</td>\n",
       "      <td>1</td>\n",
       "      <td>0</td>\n",
       "      <td>2</td>\n",
       "      <td>200000000.0</td>\n",
       "      <td>princetonCerber</td>\n",
       "      <td>0</td>\n",
       "    </tr>\n",
       "    <tr>\n",
       "      <th>3</th>\n",
       "      <td>1126eDRw2wqSkWosjTCre8cjjQW8sSeWH7</td>\n",
       "      <td>2011</td>\n",
       "      <td>322</td>\n",
       "      <td>72</td>\n",
       "      <td>0.003906</td>\n",
       "      <td>1</td>\n",
       "      <td>0</td>\n",
       "      <td>2</td>\n",
       "      <td>71200000.0</td>\n",
       "      <td>princetonCerber</td>\n",
       "      <td>0</td>\n",
       "    </tr>\n",
       "    <tr>\n",
       "      <th>4</th>\n",
       "      <td>1129TSjKtx65E35GiUo4AYVeyo48twbrGX</td>\n",
       "      <td>2011</td>\n",
       "      <td>238</td>\n",
       "      <td>144</td>\n",
       "      <td>0.072848</td>\n",
       "      <td>456</td>\n",
       "      <td>0</td>\n",
       "      <td>1</td>\n",
       "      <td>200000000.0</td>\n",
       "      <td>princetonLocky</td>\n",
       "      <td>0</td>\n",
       "    </tr>\n",
       "  </tbody>\n",
       "</table>\n",
       "</div>"
      ],
      "text/plain": [
       "                              address  year  day  length    weight  count  \\\n",
       "0   111K8kZAEnJg245r2cM6y9zgJGHZtJPy6  2011   11      18  0.008333      1   \n",
       "1  1123pJv8jzeFQaCV4w644pzQJzVWay2zcA  2011  132      44  0.000244      1   \n",
       "2  112536im7hy6wtKbpH1qYDWtTyMRAcA2p7  2011  246       0  1.000000      1   \n",
       "3  1126eDRw2wqSkWosjTCre8cjjQW8sSeWH7  2011  322      72  0.003906      1   \n",
       "4  1129TSjKtx65E35GiUo4AYVeyo48twbrGX  2011  238     144  0.072848    456   \n",
       "\n",
       "   looped  neighbors       income            label  labeltarget  \n",
       "0       0          2  100050000.0  princetonCerber            0  \n",
       "1       0          1  100000000.0   princetonLocky            0  \n",
       "2       0          2  200000000.0  princetonCerber            0  \n",
       "3       0          2   71200000.0  princetonCerber            0  \n",
       "4       0          1  200000000.0   princetonLocky            0  "
      ]
     },
     "execution_count": 16,
     "metadata": {},
     "output_type": "execute_result"
    }
   ],
   "source": [
    "# Initializing the LabelEncoder\n",
    "label_encoder = LabelEncoder()\n",
    "\n",
    "# Encoding the categorical column and storing in the same column\n",
    "df['labeltarget'] = label_encoder.fit_transform(df['labeltarget'])\n",
    "\n",
    "# Checking the first five rows of the bitcoin heist data after labelencoding the labletarget column.\n",
    "df.head()"
   ]
  },
  {
   "cell_type": "code",
   "execution_count": 17,
   "metadata": {},
   "outputs": [
    {
     "data": {
      "text/html": [
       "<div>\n",
       "<style scoped>\n",
       "    .dataframe tbody tr th:only-of-type {\n",
       "        vertical-align: middle;\n",
       "    }\n",
       "\n",
       "    .dataframe tbody tr th {\n",
       "        vertical-align: top;\n",
       "    }\n",
       "\n",
       "    .dataframe thead th {\n",
       "        text-align: right;\n",
       "    }\n",
       "</style>\n",
       "<table border=\"1\" class=\"dataframe\">\n",
       "  <thead>\n",
       "    <tr style=\"text-align: right;\">\n",
       "      <th></th>\n",
       "      <th>address</th>\n",
       "      <th>year</th>\n",
       "      <th>day</th>\n",
       "      <th>length</th>\n",
       "      <th>weight</th>\n",
       "      <th>count</th>\n",
       "      <th>looped</th>\n",
       "      <th>neighbors</th>\n",
       "      <th>income</th>\n",
       "      <th>label</th>\n",
       "      <th>labeltarget</th>\n",
       "    </tr>\n",
       "  </thead>\n",
       "  <tbody>\n",
       "    <tr>\n",
       "      <th>1048570</th>\n",
       "      <td>1LfcACYNGFQcmUKubH6G4M4BfqBTxxkgzs</td>\n",
       "      <td>2017</td>\n",
       "      <td>287</td>\n",
       "      <td>144</td>\n",
       "      <td>7.010000e-05</td>\n",
       "      <td>496</td>\n",
       "      <td>0</td>\n",
       "      <td>2</td>\n",
       "      <td>5.500000e+07</td>\n",
       "      <td>white</td>\n",
       "      <td>1</td>\n",
       "    </tr>\n",
       "    <tr>\n",
       "      <th>1048571</th>\n",
       "      <td>1KjB3Lg7SUPwrjbcLp6eSMgikJCqiA5sBM</td>\n",
       "      <td>2017</td>\n",
       "      <td>287</td>\n",
       "      <td>100</td>\n",
       "      <td>2.840000e-14</td>\n",
       "      <td>1</td>\n",
       "      <td>0</td>\n",
       "      <td>2</td>\n",
       "      <td>1.804997e+10</td>\n",
       "      <td>white</td>\n",
       "      <td>1</td>\n",
       "    </tr>\n",
       "    <tr>\n",
       "      <th>1048572</th>\n",
       "      <td>1BLFGmeZE8tFNJBAwsk6pRkgSHrM2RoA8E</td>\n",
       "      <td>2018</td>\n",
       "      <td>287</td>\n",
       "      <td>4</td>\n",
       "      <td>2.500000e-01</td>\n",
       "      <td>1</td>\n",
       "      <td>0</td>\n",
       "      <td>2</td>\n",
       "      <td>1.563393e+08</td>\n",
       "      <td>white</td>\n",
       "      <td>1</td>\n",
       "    </tr>\n",
       "    <tr>\n",
       "      <th>1048573</th>\n",
       "      <td>1JZ1SGn2DNtxUqUXYC8ENLheiEvC5QxBCP</td>\n",
       "      <td>2018</td>\n",
       "      <td>287</td>\n",
       "      <td>2</td>\n",
       "      <td>2.000000e-01</td>\n",
       "      <td>1</td>\n",
       "      <td>0</td>\n",
       "      <td>2</td>\n",
       "      <td>5.553651e+09</td>\n",
       "      <td>white</td>\n",
       "      <td>1</td>\n",
       "    </tr>\n",
       "    <tr>\n",
       "      <th>1048574</th>\n",
       "      <td>1B2nKRCcpk8BuZo3M8Ju3FU4Kv8vg6pRub</td>\n",
       "      <td>2018</td>\n",
       "      <td>287</td>\n",
       "      <td>26</td>\n",
       "      <td>5.000000e-01</td>\n",
       "      <td>1</td>\n",
       "      <td>0</td>\n",
       "      <td>1</td>\n",
       "      <td>5.855557e+07</td>\n",
       "      <td>white</td>\n",
       "      <td>1</td>\n",
       "    </tr>\n",
       "  </tbody>\n",
       "</table>\n",
       "</div>"
      ],
      "text/plain": [
       "                                    address  year  day  length        weight  \\\n",
       "1048570  1LfcACYNGFQcmUKubH6G4M4BfqBTxxkgzs  2017  287     144  7.010000e-05   \n",
       "1048571  1KjB3Lg7SUPwrjbcLp6eSMgikJCqiA5sBM  2017  287     100  2.840000e-14   \n",
       "1048572  1BLFGmeZE8tFNJBAwsk6pRkgSHrM2RoA8E  2018  287       4  2.500000e-01   \n",
       "1048573  1JZ1SGn2DNtxUqUXYC8ENLheiEvC5QxBCP  2018  287       2  2.000000e-01   \n",
       "1048574  1B2nKRCcpk8BuZo3M8Ju3FU4Kv8vg6pRub  2018  287      26  5.000000e-01   \n",
       "\n",
       "         count  looped  neighbors        income  label  labeltarget  \n",
       "1048570    496       0          2  5.500000e+07  white            1  \n",
       "1048571      1       0          2  1.804997e+10  white            1  \n",
       "1048572      1       0          2  1.563393e+08  white            1  \n",
       "1048573      1       0          2  5.553651e+09  white            1  \n",
       "1048574      1       0          1  5.855557e+07  white            1  "
      ]
     },
     "execution_count": 17,
     "metadata": {},
     "output_type": "execute_result"
    }
   ],
   "source": [
    "# Checking the last five rows of the bitcoin heist data after labelencoding the labletarget column.\n",
    "df.tail()"
   ]
  },
  {
   "cell_type": "markdown",
   "metadata": {},
   "source": [
    "# Feature Selection"
   ]
  },
  {
   "cell_type": "code",
   "execution_count": 18,
   "metadata": {},
   "outputs": [
    {
     "data": {
      "text/plain": [
       "<AxesSubplot:>"
      ]
     },
     "execution_count": 18,
     "metadata": {},
     "output_type": "execute_result"
    },
    {
     "data": {
      "image/png": "[encoded data removed]",
      "text/plain": [
       "<Figure size 640x480 with 2 Axes>"
      ]
     },
     "metadata": {},
     "output_type": "display_data"
    }
   ],
   "source": [
    "# Creating the heatmap of all the numrical data present in the bitcoin heist dataset.\n",
    "sns.heatmap(df[[\"year\", \"day\", \"length\", \"weight\", \"count\", \"looped\", \"neighbors\", \"income\", \"labeltarget\"]].corr(), annot=True)"
   ]
  },
  {
   "cell_type": "code",
   "execution_count": 19,
   "metadata": {},
   "outputs": [],
   "source": [
    "# Creating a feature for the ML algorithm to classify the transaction as white or ransomware.\n",
    "x = df[[\"year\", \"length\", \"weight\", \"looped\", \"neighbors\", \"income\"]]\n",
    "\n",
    "# Creating a target for the ML algorithm to classify the transaction as white or ransomware.\n",
    "y = df[[\"labeltarget\"]]"
   ]
  },
  {
   "cell_type": "code",
   "execution_count": 20,
   "metadata": {},
   "outputs": [],
   "source": [
    "# Splitting the feature and target data into training and test set using stratified sampling with the ratio of 75:25 using the random state of 42.\n",
    "X_train, X_test, y_train, y_test = train_test_split(x, y, test_size=0.25, random_state=42, stratify=y)"
   ]
  },
  {
   "cell_type": "code",
   "execution_count": 21,
   "metadata": {},
   "outputs": [
    {
     "name": "stdout",
     "output_type": "stream",
     "text": [
      "X_train.shape (786431, 6)\n",
      "y_train.shape (786431, 1)\n",
      "X_test.shape (262144, 6)\n",
      "y_test.shape (262144, 1)\n"
     ]
    }
   ],
   "source": [
    "print(\"X_train.shape\", X_train.shape)\n",
    "print(\"y_train.shape\", y_train.shape)\n",
    "print(\"X_test.shape\", X_test.shape)\n",
    "print(\"y_test.shape\", y_test.shape)"
   ]
  },
  {
   "cell_type": "markdown",
   "metadata": {},
   "source": [
    "# Model Building\n",
    "### Gaussian Naive Bayes Classifier."
   ]
  },
  {
   "cell_type": "code",
   "execution_count": 22,
   "metadata": {},
   "outputs": [
    {
     "name": "stdout",
     "output_type": "stream",
     "text": [
      "Number of mislabeled points out of the total 262144 points : 10353\n",
      "[1]\n"
     ]
    }
   ],
   "source": [
    "# Initializing the Gaussian Naive Bayes Classifier.\n",
    "gnb_classifer = GaussianNB()\n",
    "\n",
    "# Fitting the training and testing data into the Gaussian Naive Bayes classifier.\n",
    "gnb_model = gnb_classifer.fit(X_train.values, y_train.values.ravel())\n",
    "\n",
    "# Predicting the values of the features as 0(Ransomware) or 1(White) based on the training data.\n",
    "y_pred = gnb_model.predict(X_test.values)\n",
    "\n",
    "# Checking the number of mislabeled points out of the total test data points.\n",
    "print(f\"Number of mislabeled points out of the total { X_test.shape[0] } points : {(y_test.values.ravel() != y_pred).sum()}\" )\n",
    "\n",
    "# \"year\", \"length\", \"weight\", \"looped\", \"neighbors\", \"income\"\n",
    "# Checking the prediction of a random data using the model built.\n",
    "print(gnb_model.predict(np.array([[2013, 82, 0.125000954, 0, 1, 230000000]])))"
   ]
  },
  {
   "cell_type": "code",
   "execution_count": 23,
   "metadata": {},
   "outputs": [],
   "source": [
    "# Defining the function to calculate the metrics based on the actual and predicted data.\n",
    "def calculatemetrics(actual_data, predicted_data):\n",
    "    \"\"\"This function calculates the metrics for the actual and predicted data obtained.\n",
    "\n",
    "    Args:\n",
    "        actual_data (list): actual data \n",
    "        predicted_data (list): predicted data\n",
    "    \"\"\"\n",
    "    # Calculating the metrics for the given data.\n",
    "    accuracy = accuracy_score(actual_data, predicted_data)\n",
    "    precision = precision_score(actual_data, predicted_data, pos_label=1)\n",
    "    recall = recall_score(actual_data, predicted_data, pos_label=1)\n",
    "    f1 = f1_score(actual_data, predicted_data, pos_label=1)\n",
    "    conf_matrix = confusion_matrix(actual_data, predicted_data)\n",
    "    \n",
    "    # Generate a detailed classification report.\n",
    "    class_report = classification_report(y_test, y_pred)\n",
    "\n",
    "    # Printing the metrics for the given data.\n",
    "    print(\"Accuracy:\", accuracy)\n",
    "    print(\"Precision:\", precision)\n",
    "    print(\"Recall:\", recall)\n",
    "    print(\"F1-Score:\", f1)\n",
    "    print(\"Classification Report:\\n\", class_report)\n",
    "    \n",
    "    # Creating the heatmap for the confusion matrix data.\n",
    "    plt.figure(figsize=(8, 6))\n",
    "    sns.heatmap(conf_matrix, annot=True, fmt=\"d\")\n",
    "    plt.title(\"Confusion Matrix\")\n",
    "    plt.show()"
   ]
  },
  {
   "cell_type": "markdown",
   "metadata": {},
   "source": [
    "### Gaussian Naive Bayes Model Results."
   ]
  },
  {
   "cell_type": "code",
   "execution_count": 24,
   "metadata": {},
   "outputs": [
    {
     "name": "stdout",
     "output_type": "stream",
     "text": [
      "The training accuracy metrics of the Gaussian Naive Bayes model are: \n"
     ]
    },
    {
     "name": "stderr",
     "output_type": "stream",
     "text": [
      "C:\\Users\\Acer\\anaconda3\\lib\\site-packages\\sklearn\\metrics\\_classification.py:1318: UndefinedMetricWarning: Precision and F-score are ill-defined and being set to 0.0 in labels with no predicted samples. Use `zero_division` parameter to control this behavior.\n",
      "  _warn_prf(average, modifier, msg_start, len(result))\n",
      "C:\\Users\\Acer\\anaconda3\\lib\\site-packages\\sklearn\\metrics\\_classification.py:1318: UndefinedMetricWarning: Precision and F-score are ill-defined and being set to 0.0 in labels with no predicted samples. Use `zero_division` parameter to control this behavior.\n",
      "  _warn_prf(average, modifier, msg_start, len(result))\n",
      "C:\\Users\\Acer\\anaconda3\\lib\\site-packages\\sklearn\\metrics\\_classification.py:1318: UndefinedMetricWarning: Precision and F-score are ill-defined and being set to 0.0 in labels with no predicted samples. Use `zero_division` parameter to control this behavior.\n",
      "  _warn_prf(average, modifier, msg_start, len(result))\n"
     ]
    },
    {
     "name": "stdout",
     "output_type": "stream",
     "text": [
      "Accuracy: 0.960505117422889\n",
      "Precision: 0.960505117422889\n",
      "Recall: 1.0\n",
      "F1-Score: 0.9798547413999982\n",
      "Classification Report:\n",
      "               precision    recall  f1-score   support\n",
      "\n",
      "           0       0.00      0.00      0.00     10353\n",
      "           1       0.96      1.00      0.98    251791\n",
      "\n",
      "    accuracy                           0.96    262144\n",
      "   macro avg       0.48      0.50      0.49    262144\n",
      "weighted avg       0.92      0.96      0.94    262144\n",
      "\n"
     ]
    },
    {
     "data": {
      "image/png": "[encoded data removed]",
      "text/plain": [
       "<Figure size 800x600 with 2 Axes>"
      ]
     },
     "metadata": {},
     "output_type": "display_data"
    }
   ],
   "source": [
    "print(\"The training accuracy metrics of the Gaussian Naive Bayes model are: \")\n",
    "\n",
    "# Predicting the values of the features as 0(Ransomware) or 1(White) of the training data.\n",
    "y_train_pred = gnb_model.predict(X_train.values)\n",
    "calculatemetrics(y_train, y_train_pred)"
   ]
  },
  {
   "cell_type": "code",
   "execution_count": 25,
   "metadata": {},
   "outputs": [
    {
     "name": "stdout",
     "output_type": "stream",
     "text": [
      "The testing accuracy metrics of the Gaussian Naive Bayes model are: \n"
     ]
    },
    {
     "name": "stderr",
     "output_type": "stream",
     "text": [
      "C:\\Users\\Acer\\anaconda3\\lib\\site-packages\\sklearn\\metrics\\_classification.py:1318: UndefinedMetricWarning: Precision and F-score are ill-defined and being set to 0.0 in labels with no predicted samples. Use `zero_division` parameter to control this behavior.\n",
      "  _warn_prf(average, modifier, msg_start, len(result))\n",
      "C:\\Users\\Acer\\anaconda3\\lib\\site-packages\\sklearn\\metrics\\_classification.py:1318: UndefinedMetricWarning: Precision and F-score are ill-defined and being set to 0.0 in labels with no predicted samples. Use `zero_division` parameter to control this behavior.\n",
      "  _warn_prf(average, modifier, msg_start, len(result))\n"
     ]
    },
    {
     "name": "stdout",
     "output_type": "stream",
     "text": [
      "Accuracy: 0.9605064392089844\n",
      "Precision: 0.9605064392089844\n",
      "Recall: 1.0\n",
      "F1-Score: 0.9798554291885161\n",
      "Classification Report:\n",
      "               precision    recall  f1-score   support\n",
      "\n",
      "           0       0.00      0.00      0.00     10353\n",
      "           1       0.96      1.00      0.98    251791\n",
      "\n",
      "    accuracy                           0.96    262144\n",
      "   macro avg       0.48      0.50      0.49    262144\n",
      "weighted avg       0.92      0.96      0.94    262144\n",
      "\n"
     ]
    },
    {
     "name": "stderr",
     "output_type": "stream",
     "text": [
      "C:\\Users\\Acer\\anaconda3\\lib\\site-packages\\sklearn\\metrics\\_classification.py:1318: UndefinedMetricWarning: Precision and F-score are ill-defined and being set to 0.0 in labels with no predicted samples. Use `zero_division` parameter to control this behavior.\n",
      "  _warn_prf(average, modifier, msg_start, len(result))\n"
     ]
    },
    {
     "data": {
      "image/png": "[encoded data removed]",
      "text/plain": [
       "<Figure size 800x600 with 2 Axes>"
      ]
     },
     "metadata": {},
     "output_type": "display_data"
    }
   ],
   "source": [
    "print(\"The testing accuracy metrics of the Gaussian Naive Bayes model are: \")\n",
    "calculatemetrics(y_test, y_pred)"
   ]
  },
  {
   "cell_type": "markdown",
   "metadata": {},
   "source": [
    "### DecisionTree Classifier"
   ]
  },
  {
   "cell_type": "code",
   "execution_count": 26,
   "metadata": {},
   "outputs": [
    {
     "name": "stdout",
     "output_type": "stream",
     "text": [
      "Number of mislabeled points out of a total 262144 points : 8656\n",
      "[1]\n"
     ]
    }
   ],
   "source": [
    "# Initializing the DecisionTree Classifier.\n",
    "decision_tree_classifier = tree.DecisionTreeClassifier()\n",
    "\n",
    "# Fitting the training and testing data into the DecisionTree Classifier.\n",
    "decision_tree_model = decision_tree_classifier.fit(X_train.values, y_train.values.ravel())\n",
    "\n",
    "# Predicting the values of the features as 0(Ransomware) or 1(White) based on the training data.\n",
    "y_pred = decision_tree_model.predict(X_test.values)\n",
    "\n",
    "# Checking the number of mislabeled points out of the total test data points.\n",
    "print(f\"Number of mislabeled points out of a total { X_test.shape[0] } points : {(y_test.values.ravel() != y_pred).sum()}\" )\n",
    "\n",
    "# \"year\", \"length\", \"weight\", \"looped\", \"neighbors\", \"income\"\n",
    "# Checking the prediction of a random data using the model built.\n",
    "print(decision_tree_model.predict(np.array([[2013, 82, 0.125000954, 0, 1, 230000000]])))"
   ]
  },
  {
   "cell_type": "markdown",
   "metadata": {},
   "source": [
    "### Decission Tree Classifier Model Results."
   ]
  },
  {
   "cell_type": "code",
   "execution_count": 27,
   "metadata": {},
   "outputs": [
    {
     "name": "stdout",
     "output_type": "stream",
     "text": [
      "The training accuracy metrics of the Decission Tree Calssifier model are: \n",
      "Accuracy: 0.9925943916249487\n",
      "Precision: 0.9944208811287525\n",
      "Recall: 0.9978884548122711\n",
      "F1-Score: 0.9961516503499461\n",
      "Classification Report:\n",
      "               precision    recall  f1-score   support\n",
      "\n",
      "           0       0.59      0.54      0.56     10353\n",
      "           1       0.98      0.98      0.98    251791\n",
      "\n",
      "    accuracy                           0.97    262144\n",
      "   macro avg       0.79      0.76      0.77    262144\n",
      "weighted avg       0.97      0.97      0.97    262144\n",
      "\n"
     ]
    },
    {
     "data": {
      "image/png": "[encoded data removed]",
      "text/plain": [
       "<Figure size 800x600 with 2 Axes>"
      ]
     },
     "metadata": {},
     "output_type": "display_data"
    }
   ],
   "source": [
    "print(\"The training accuracy metrics of the Decission Tree Calssifier model are: \")\n",
    "\n",
    "# Predicting the values of the features as 0(Ransomware) or 1(White) of the training data.\n",
    "y_train_pred = decision_tree_model.predict(X_train.values)\n",
    "calculatemetrics(y_train, y_train_pred)"
   ]
  },
  {
   "cell_type": "code",
   "execution_count": 28,
   "metadata": {},
   "outputs": [
    {
     "name": "stdout",
     "output_type": "stream",
     "text": [
      "The testing accuracy metrics of the Decission Tree Calssifier model are: \n",
      "Accuracy: 0.96697998046875\n",
      "Precision: 0.9811943618709849\n",
      "Recall: 0.9844911057186317\n",
      "F1-Score: 0.9828399692324773\n",
      "Classification Report:\n",
      "               precision    recall  f1-score   support\n",
      "\n",
      "           0       0.59      0.54      0.56     10353\n",
      "           1       0.98      0.98      0.98    251791\n",
      "\n",
      "    accuracy                           0.97    262144\n",
      "   macro avg       0.79      0.76      0.77    262144\n",
      "weighted avg       0.97      0.97      0.97    262144\n",
      "\n"
     ]
    },
    {
     "data": {
      "image/png": "[encoded data removed]",
      "text/plain": [
       "<Figure size 800x600 with 2 Axes>"
      ]
     },
     "metadata": {},
     "output_type": "display_data"
    }
   ],
   "source": [
    "print(\"The testing accuracy metrics of the Decission Tree Calssifier model are: \")\n",
    "calculatemetrics(y_test, y_pred)"
   ]
  },
  {
   "cell_type": "code",
   "execution_count": null,
   "metadata": {},
   "outputs": [],
   "source": []
  }
 ],
 "metadata": {
  "kernelspec": {
   "display_name": "Python 3 (ipykernel)",
   "language": "python",
   "name": "python3"
  },
  "language_info": {
   "codemirror_mode": {
    "name": "ipython",
    "version": 3
   },
   "file_extension": ".py",
   "mimetype": "text/x-python",
   "name": "python",
   "nbconvert_exporter": "python",
   "pygments_lexer": "ipython3",
   "version": "3.9.13"
  }
 },
 "nbformat": 4,
 "nbformat_minor": 2
}
